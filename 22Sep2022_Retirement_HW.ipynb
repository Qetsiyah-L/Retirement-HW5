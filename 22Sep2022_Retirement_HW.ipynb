{
 "cells": [
  {
   "cell_type": "markdown",
   "id": "7033848b-ed2c-4017-81ab-e8abb02dbbae",
   "metadata": {},
   "source": [
    "1) What age can I retire at?\n",
    "    List expenses:\n",
    "        - food\n",
    "        - utilities / bills\n",
    "        - housing\n",
    "        - transportation\n",
    "        - entertainment\n",
    "        - clothing\n",
    "        - travel\n",
    "        - medical\n",
    "2) How much will I have at retirement age?\n",
    "    - retirement age\n",
    "    - current age\n",
    "    - interest\n",
    "    - salary\n",
    "    - annual investment"
   ]
  },
  {
   "cell_type": "code",
   "execution_count": 16,
   "id": "64738b12-97fc-4376-a5ea-35856ffd3c30",
   "metadata": {},
   "outputs": [
    {
     "name": "stdout",
     "output_type": "stream",
     "text": [
      "What is your current age?  25\n",
      "What is the current value of your retirement account?  15000\n"
     ]
    },
    {
     "name": "stdout",
     "output_type": "stream",
     "text": [
      "67 11843013.83224847\n"
     ]
    }
   ],
   "source": [
    "current_age = int(input(\"What is your current age? \"))\n",
    "retire_age = 67\n",
    "year_end_value = int(input(\"What is the current value of your retirement account? \"))\n",
    "return_rate = .10\n",
    "deposit = 20500\n",
    "\n",
    "for every_year in range(current_age, retire_age):\n",
    "    year_end_value = year_end_value * (1 + return_rate) + deposit\n",
    "print(every_year + 1, year_end_value)"
   ]
  },
  {
   "cell_type": "code",
   "execution_count": 17,
   "id": "79637816-8b03-4e08-b00b-0b4315353f60",
   "metadata": {},
   "outputs": [
    {
     "name": "stdout",
     "output_type": "stream",
     "text": [
      "What is your current age?  32\n",
      "What is the current value of your retirement account?  240000\n"
     ]
    },
    {
     "name": "stdout",
     "output_type": "stream",
     "text": [
      "67 12300584.397388622\n"
     ]
    }
   ],
   "source": [
    "current_age = int(input(\"What is your current age? \"))\n",
    "retire_age = 67\n",
    "year_end_value = int(input(\"What is the current value of your retirement account? \"))\n",
    "return_rate = .10\n",
    "deposit = 20500\n",
    "\n",
    "for every_year in range(current_age, retire_age):\n",
    "    year_end_value = year_end_value * (1 + return_rate) + deposit\n",
    "print(every_year + 1, year_end_value)"
   ]
  },
  {
   "cell_type": "code",
   "execution_count": 22,
   "id": "2abf0361-88de-4d10-9796-da1a35fe397a",
   "metadata": {
    "collapsed": true,
    "jupyter": {
     "outputs_hidden": true
    },
    "tags": []
   },
   "outputs": [
    {
     "name": "stdout",
     "output_type": "stream",
     "text": [
      "What is your current age?  25\n",
      "What is the current value of your retirement account?  10000\n"
     ]
    },
    {
     "name": "stdout",
     "output_type": "stream",
     "text": [
      "26 31500.0\n",
      "27 55150.0\n",
      "28 81165.0\n",
      "29 109781.5\n",
      "30 141259.65000000002\n",
      "31 175885.61500000005\n",
      "32 213974.17650000006\n",
      "33 255871.59415000008\n",
      "34 301958.7535650001\n",
      "35 352654.6289215001\n",
      "36 408420.09181365016\n",
      "37 469762.10099501524\n",
      "38 537238.3110945169\n",
      "39 611462.1422039686\n",
      "40 693108.3564243655\n",
      "41 782919.1920668022\n",
      "42 881711.1112734824\n",
      "43 990382.2224008307\n",
      "44 1109920.444640914\n"
     ]
    }
   ],
   "source": [
    "current_age = int(input(\"What is your current age? \"))\n",
    "acct_balance = int(input(\"What is the current value of your retirement account? \"))\n",
    "required_value_for_retirement = 1000000\n",
    "return_rate = .10\n",
    "deposit = 20500\n",
    "\n",
    "while acct_balance < required_value_for_retirement:\n",
    "    acct_balance = acct_balance * (1 + return_rate) + deposit\n",
    "    current_age += 1\n",
    "    print(current_age, acct_balance)\n"
   ]
  },
  {
   "cell_type": "code",
   "execution_count": null,
   "id": "47132f3a",
   "metadata": {},
   "outputs": [],
   "source": []
  },
  {
   "cell_type": "markdown",
   "id": "76dc437b-0eff-4374-827b-8a10ca74cf87",
   "metadata": {},
   "source": [
    "Homework:\n",
    "    1) For Loop:\n",
    "        - convert all variables to dynamic inputs\n",
    "        - add 401k matching\n",
    "        - add salary + expected increases in salary\n",
    "        \n",
    "    2) While Loop:\n",
    "        - convert all variablees to dynamic inputs\n",
    "        - calculate expected retirement costs\n",
    "        - calculate from retirmeent costs, how much you need to retire"
   ]
  }
 ],
 "metadata": {
  "kernelspec": {
   "display_name": "Python 3 (ipykernel)",
   "language": "python",
   "name": "python3"
  },
  "language_info": {
   "codemirror_mode": {
    "name": "ipython",
    "version": 3
   },
   "file_extension": ".py",
   "mimetype": "text/x-python",
   "name": "python",
   "nbconvert_exporter": "python",
   "pygments_lexer": "ipython3",
   "version": "3.9.7"
  }
 },
 "nbformat": 4,
 "nbformat_minor": 5
}
